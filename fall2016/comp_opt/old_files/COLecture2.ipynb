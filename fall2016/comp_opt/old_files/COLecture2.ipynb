{
 "cells": [
  {
   "cell_type": "code",
   "execution_count": 3,
   "metadata": {
    "collapsed": true
   },
   "outputs": [],
   "source": [
    "# %load python_basics_examples.py\n",
    "# Getting help in python is easy.\n",
    "# Besides looking online, you can try:\n",
    "#\n",
    "# help( <some object> )\n",
    "#\n",
    "# and it will print some help\n",
    "\n",
    "##########################\n",
    "# Basic data types\n",
    "##########################\n",
    "\n",
    "a_string = 'hello'  # You can use single or double quotes, no difference\n",
    "a_int = 4\n",
    "a_float = 4.0\n",
    "a_list = [1,2,'hello']\n",
    "a_tuple = ('a', 5, 6.0)"
   ]
  },
  {
   "cell_type": "code",
   "execution_count": 4,
   "metadata": {
    "collapsed": false
   },
   "outputs": [
    {
     "name": "stdout",
     "output_type": "stream",
     "text": [
      "hello\n"
     ]
    }
   ],
   "source": [
    "print a_string"
   ]
  },
  {
   "cell_type": "code",
   "execution_count": 5,
   "metadata": {
    "collapsed": true
   },
   "outputs": [],
   "source": [
    "# adding things to lists is easy... not to tuples, that's the difference.\n",
    "\n",
    "a_list.append(3)\n",
    "a_list.extend( ['ned', 6, 7] )"
   ]
  },
  {
   "cell_type": "code",
   "execution_count": 6,
   "metadata": {
    "collapsed": false
   },
   "outputs": [
    {
     "name": "stdout",
     "output_type": "stream",
     "text": [
      "[1, 2, 'hello', 3, 'ned', 6, 7]\n"
     ]
    }
   ],
   "source": [
    "print a_list"
   ]
  },
  {
   "cell_type": "code",
   "execution_count": 7,
   "metadata": {
    "collapsed": true
   },
   "outputs": [],
   "source": [
    "a_list.append( ['ned',6,7])"
   ]
  },
  {
   "cell_type": "code",
   "execution_count": 8,
   "metadata": {
    "collapsed": false
   },
   "outputs": [
    {
     "name": "stdout",
     "output_type": "stream",
     "text": [
      "[1, 2, 'hello', 3, 'ned', 6, 7, ['ned', 6, 7]]\n"
     ]
    }
   ],
   "source": [
    "print a_list"
   ]
  },
  {
   "cell_type": "code",
   "execution_count": 11,
   "metadata": {
    "collapsed": false
   },
   "outputs": [
    {
     "name": "stdout",
     "output_type": "stream",
     "text": [
      "6\n"
     ]
    }
   ],
   "source": [
    "print a_list[-1][1]"
   ]
  },
  {
   "cell_type": "code",
   "execution_count": 13,
   "metadata": {
    "collapsed": false
   },
   "outputs": [
    {
     "name": "stdout",
     "output_type": "stream",
     "text": [
      "{'Ned': 2.0, 3: 7.8, 'Fred': 4.0}\n"
     ]
    }
   ],
   "source": [
    "# If you've never used lists before, there is an easy way to find out what methods they have\n",
    "# Besides looking online you could do \n",
    "# \n",
    "# dir( a_list )\n",
    "#\n",
    "# and python will print the methods that the a_list object has.\n",
    "# You could also try tab-completing after writing 'a_list.' in ipython\n",
    "\n",
    "a_dictionary = dict( [ [\"Ned\", 2.0], [\"Fred\", 4.0], [3, 7.8] ] ) \n",
    "print a_dictionary"
   ]
  },
  {
   "cell_type": "code",
   "execution_count": null,
   "metadata": {
    "collapsed": true
   },
   "outputs": [],
   "source": [
    "# There are lots of other ways to initialize a dictionary\n",
    "# Try help( dict ) to learn about the other ways\n",
    "# Try dir( a_dictionary ) to find out about the methods a dictionary has"
   ]
  },
  {
   "cell_type": "code",
   "execution_count": 15,
   "metadata": {
    "collapsed": false
   },
   "outputs": [
    {
     "data": {
      "text/plain": [
       "['__class__',\n",
       " '__cmp__',\n",
       " '__contains__',\n",
       " '__delattr__',\n",
       " '__delitem__',\n",
       " '__doc__',\n",
       " '__eq__',\n",
       " '__format__',\n",
       " '__ge__',\n",
       " '__getattribute__',\n",
       " '__getitem__',\n",
       " '__gt__',\n",
       " '__hash__',\n",
       " '__init__',\n",
       " '__iter__',\n",
       " '__le__',\n",
       " '__len__',\n",
       " '__lt__',\n",
       " '__ne__',\n",
       " '__new__',\n",
       " '__reduce__',\n",
       " '__reduce_ex__',\n",
       " '__repr__',\n",
       " '__setattr__',\n",
       " '__setitem__',\n",
       " '__sizeof__',\n",
       " '__str__',\n",
       " '__subclasshook__',\n",
       " 'clear',\n",
       " 'copy',\n",
       " 'fromkeys',\n",
       " 'get',\n",
       " 'has_key',\n",
       " 'items',\n",
       " 'iteritems',\n",
       " 'iterkeys',\n",
       " 'itervalues',\n",
       " 'keys',\n",
       " 'pop',\n",
       " 'popitem',\n",
       " 'setdefault',\n",
       " 'update',\n",
       " 'values',\n",
       " 'viewitems',\n",
       " 'viewkeys',\n",
       " 'viewvalues']"
      ]
     },
     "execution_count": 15,
     "metadata": {},
     "output_type": "execute_result"
    }
   ],
   "source": [
    "dir(a_dictionary)"
   ]
  },
  {
   "cell_type": "code",
   "execution_count": 19,
   "metadata": {
    "collapsed": false
   },
   "outputs": [
    {
     "name": "stdout",
     "output_type": "stream",
     "text": [
      "2.0\n"
     ]
    }
   ],
   "source": [
    "print a_dictionary['Ned']"
   ]
  },
  {
   "cell_type": "code",
   "execution_count": 1,
   "metadata": {
    "collapsed": false
   },
   "outputs": [
    {
     "name": "stdout",
     "output_type": "stream",
     "text": [
      "set([1, 2, 3])\n"
     ]
    }
   ],
   "source": [
    "# Sometimes useful...\n",
    "\n",
    "a_set = set( [1,2,3,3] )  # no order, no repetition\n",
    "print a_set"
   ]
  },
  {
   "cell_type": "code",
   "execution_count": 6,
   "metadata": {
    "collapsed": false
   },
   "outputs": [
    {
     "name": "stdout",
     "output_type": "stream",
     "text": [
      "[1, 2, 3, 'hello']\n",
      "(1, 2, 3, 'hello')\n",
      "2473311737894765252\n"
     ]
    }
   ],
   "source": [
    "a_list = [1,2,3,'hello']\n",
    "a_tuple = (1,2,3,'hello')\n",
    "print a_list \n",
    "print a_tuple\n",
    "print hash(a_tuple)"
   ]
  },
  {
   "cell_type": "code",
   "execution_count": 9,
   "metadata": {
    "collapsed": false
   },
   "outputs": [
    {
     "name": "stdout",
     "output_type": "stream",
     "text": [
      "[1, 2, 3, 'hello']\n",
      "[1, 7, 3, 'hello']\n"
     ]
    }
   ],
   "source": [
    "print a_list\n",
    "b_list = a_list\n",
    "b_list[1] = 7\n",
    "print a_list"
   ]
  },
  {
   "cell_type": "code",
   "execution_count": 10,
   "metadata": {
    "collapsed": false
   },
   "outputs": [
    {
     "name": "stdout",
     "output_type": "stream",
     "text": [
      "1\n",
      "7\n",
      "3\n",
      "hello\n",
      "Oh, I meant to say hello world!\n"
     ]
    }
   ],
   "source": [
    "##########################################\n",
    "# Built in loops, conditionals, basic tools\n",
    "##########################################\n",
    "\n",
    "for i in a_list:\n",
    "    print i\n",
    "    if i == 'hello':\n",
    "        print 'Oh, I meant to say hello world!'"
   ]
  },
  {
   "cell_type": "code",
   "execution_count": 11,
   "metadata": {
    "collapsed": false
   },
   "outputs": [
    {
     "name": "stdout",
     "output_type": "stream",
     "text": [
      "[0, 1, 2, 3, 4, 5, 6, 7, 8, 9]\n"
     ]
    }
   ],
   "source": [
    "print range(10)"
   ]
  },
  {
   "cell_type": "code",
   "execution_count": 12,
   "metadata": {
    "collapsed": false
   },
   "outputs": [
    {
     "name": "stdout",
     "output_type": "stream",
     "text": [
      "0\n",
      "1\n",
      "2\n",
      "3\n",
      "4\n",
      "5\n",
      "6\n",
      "7\n",
      "8\n",
      "9\n"
     ]
    }
   ],
   "source": [
    "# for loops are probably the most useful... read about whiles online also.\n",
    "\n",
    "# Python has a few built-in functions to help do things easier.\n",
    "\n",
    "for i in range(10):\n",
    "    print i"
   ]
  },
  {
   "cell_type": "code",
   "execution_count": 14,
   "metadata": {
    "collapsed": false
   },
   "outputs": [
    {
     "data": {
      "text/plain": [
       "[(0, 'ned'), (1, 'joe'), (2, 'fred')]"
      ]
     },
     "execution_count": 14,
     "metadata": {},
     "output_type": "execute_result"
    }
   ],
   "source": [
    "list(enumerate(['ned','joe','fred']))"
   ]
  },
  {
   "cell_type": "code",
   "execution_count": 15,
   "metadata": {
    "collapsed": false
   },
   "outputs": [
    {
     "name": "stdout",
     "output_type": "stream",
     "text": [
      "0 ned\n",
      "1 joe\n",
      "2 fred\n"
     ]
    }
   ],
   "source": [
    "# notice that it counts 0 to 9.  Do help(range) to see what else it can do.\n",
    "\n",
    "# enumerate tells us the index of the element also\n",
    "for idx,elt  in enumerate( ['ned', 'joe', 'fred'] ):\n",
    "    print idx, elt\n",
    "    "
   ]
  },
  {
   "cell_type": "code",
   "execution_count": 18,
   "metadata": {
    "collapsed": false
   },
   "outputs": [
    {
     "name": "stdout",
     "output_type": "stream",
     "text": [
      "[('ned', 1, 7.0), ('joe', 2, 8.8), ('fred', 3, 9.2)]\n",
      "1\n",
      "2\n",
      "3\n"
     ]
    }
   ],
   "source": [
    "# zip allows us to mix lists together or tear them appart\n",
    "\n",
    "a_list = ['ned', 'joe', 'fred']\n",
    "b_list = [1,2,3]\n",
    "c_list = [7.0, 8.8, 9.2]\n",
    "\n",
    "print zip(a_list, b_list, c_list)\n",
    "\n",
    "for i,j,k in zip(a_list, b_list, c_list):\n",
    "    print j\n",
    "\n",
    "# you can do this with as many lists as you want"
   ]
  },
  {
   "cell_type": "code",
   "execution_count": 19,
   "metadata": {
    "collapsed": false
   },
   "outputs": [
    {
     "data": {
      "text/plain": [
       "[('a', 'b', 'c'), (1, 2, 3), ('hello', 'world', 'now')]"
      ]
     },
     "execution_count": 19,
     "metadata": {},
     "output_type": "execute_result"
    }
   ],
   "source": [
    "# you can also unzip lists\n",
    "\n",
    "zipped_list = [['a',1, 'hello'], ['b', 2, 'world'], ['c', 3, 'now']]\n",
    "zip( * zipped_list )\n",
    "\n",
    "# That * above is a little weird, right?  Lets learn about it... it has to do with passing arguments to funtions"
   ]
  },
  {
   "cell_type": "code",
   "execution_count": 31,
   "metadata": {
    "collapsed": false
   },
   "outputs": [
    {
     "name": "stdout",
     "output_type": "stream",
     "text": [
      "2\n",
      "[5]\n",
      "None\n",
      "2\n",
      "[5, 5]\n",
      "None\n"
     ]
    }
   ],
   "source": [
    "#####################################\n",
    "# Function basics\n",
    "#####################################\n",
    "\n",
    "def addTwoNumbers( x=0, y=[]): # those are default values for the parameters x and y\n",
    "    print x\n",
    "    y.append(5)\n",
    "    print y\n",
    "\n",
    "print addTwoNumbers(2)\n",
    "print addTwoNumbers(2)"
   ]
  },
  {
   "cell_type": "code",
   "execution_count": 35,
   "metadata": {
    "collapsed": false
   },
   "outputs": [
    {
     "name": "stdout",
     "output_type": "stream",
     "text": [
      "6\n"
     ]
    }
   ],
   "source": [
    "# What if I want to be flexible how many numbers I add\n",
    "def addManyNumbers( *args ):  # The * packs together a variable number of arguments into the tuple args.\n",
    "    ans = 0\n",
    "    for i in args:\n",
    "        ans = ans + i\n",
    "    return ans\n",
    "\n",
    "print addManyNumbers( *[1,2,3])"
   ]
  },
  {
   "cell_type": "code",
   "execution_count": 39,
   "metadata": {
    "collapsed": false
   },
   "outputs": [
    {
     "name": "stdout",
     "output_type": "stream",
     "text": [
      "First argument is 0\n",
      "Second argument is Yo-Jo!\n",
      "First argument is 0\n",
      "Second argument is Cobra!!\n",
      "{'a': 3, 'b': 'hello'}\n",
      "First argument is 3\n",
      "Second argument is hello\n"
     ]
    }
   ],
   "source": [
    "# We can also call functions by explicitly saying which arguments we want to set\n",
    "\n",
    "def printArgs(a = 0, b = 'Yo-Jo!'):\n",
    "    print 'First argument is', a\n",
    "    print 'Second argument is', b\n",
    "\n",
    "printArgs() # uses the default settings\n",
    "printArgs(b = 'Cobra!!')  # using a key-word argument when calling the function\n",
    "\n",
    "a_dict = {'a':3, 'b':'hello'}\n",
    "print a_dict\n",
    "printArgs(**a_dict)"
   ]
  },
  {
   "cell_type": "code",
   "execution_count": 36,
   "metadata": {
    "collapsed": false
   },
   "outputs": [
    {
     "name": "stdout",
     "output_type": "stream",
     "text": [
      "Argument name <cobraSays> and value <Cobra!!>\n",
      "Argument name <giJoeSays> and value <YoJo>\n",
      "Argument name <heManSays> and value <Power of Grayscull>\n"
     ]
    }
   ],
   "source": [
    "# Sometimes we want a variable number of keyword arguments\n",
    "\n",
    "def printKWArgs( **kwargs ): #This packs the keyword argumetns into a dictionary called kwargs\n",
    "    for key, value in kwargs.iteritems():\n",
    "        print 'Argument name <%s> and value <%s>'%(str(key), str(value))  # using % string operator to write into a string\n",
    "\n",
    "printKWArgs(giJoeSays = 'YoJo', cobraSays = 'Cobra!!', heManSays = 'Power of Grayscull')"
   ]
  },
  {
   "cell_type": "code",
   "execution_count": 44,
   "metadata": {
    "collapsed": false
   },
   "outputs": [
    {
     "name": "stdout",
     "output_type": "stream",
     "text": [
      "0 160 100 60 70\n"
     ]
    }
   ],
   "source": [
    "#######################################################################\n",
    "# Class basics\n",
    "#######################################################################\n",
    "\n",
    "# A Class groups together some data and actions on it\n",
    "\n",
    "# Lets create a mazda class.\n",
    "# It will have three pieces of data:  max_speed, color, and current_speed\n",
    "# we will also have some actions that operate on those pieces of data\n",
    "\n",
    "class Mazda(object):\n",
    "\n",
    "    def __init__(self, max_speed = 100, color = 'red', current_speed = 0):\n",
    "        \"\"\"Create a Mazda object.\"\"\"\n",
    "        self.max_speed = max_speed\n",
    "        self.color = color\n",
    "        self.current_speed = current_speed\n",
    "\n",
    "    def goFast(self):\n",
    "        self.current_speed = 60\n",
    "\n",
    "    def goMaxSpeed(self):\n",
    "        self.current_speed = self.max_speed\n",
    "\n",
    "    def repaint(self, new_color):\n",
    "        self.color = new_color\n",
    "\n",
    "max_speed = 70\n",
    "A = Mazda()\n",
    "B = Mazda(max_speed=160)\n",
    "A.goFast()\n",
    "print B.current_speed, B.max_speed, A.max_speed, A.current_speed, max_speed"
   ]
  },
  {
   "cell_type": "code",
   "execution_count": null,
   "metadata": {
    "collapsed": true
   },
   "outputs": [],
   "source": [
    "        \n",
    "# What if we want to make a turbo-charged Mazda, that works pretty much the same way\n",
    "# but by default I want it to have a larger max speed.\n",
    "\n",
    "class TurboMazda(Mazda):\n",
    "\n",
    "    def __init__(self, *args, **kwargs):\n",
    "        Mazda.__init__(self,*args,**kwargs)\n",
    "        self.max_speed = 120"
   ]
  },
  {
   "cell_type": "code",
   "execution_count": 45,
   "metadata": {
    "collapsed": false
   },
   "outputs": [
    {
     "name": "stdout",
     "output_type": "stream",
     "text": [
      "[(1, 2), (1, 3), (1, 4), (2, 3), (2, 4), (3, 4)]\n"
     ]
    }
   ],
   "source": [
    "###################################\n",
    "# Modules\n",
    "###################################\n",
    "\n",
    "# a module groups a bunch of functions, and classes together\n",
    "# it also creates a \"namespace\" so that things named the same don't clash\n",
    "\n",
    "# lots of built-in modules exist to help us get work done\n",
    "# some useful ones are\n",
    "# os, sys -- to help you deal with files and directories\n",
    "# itertools -- to help you create lists to iterate over easily\n",
    "\n",
    "import itertools\n",
    "\n",
    "print list( itertools.combinations([1,2,3,4], 2) )"
   ]
  },
  {
   "cell_type": "code",
   "execution_count": 46,
   "metadata": {
    "collapsed": false
   },
   "outputs": [
    {
     "name": "stdout",
     "output_type": "stream",
     "text": [
      "['', '/usr/lib64/python27.zip', '/usr/lib64/python2.7', '/usr/lib64/python2.7/plat-linux2', '/usr/lib64/python2.7/lib-tk', '/usr/lib64/python2.7/lib-old', '/usr/lib64/python2.7/lib-dynload', '/usr/lib64/python2.7/site-packages', '/usr/lib/python2.7/site-packages', '/usr/lib/python2.7/site-packages/IPython/extensions']\n"
     ]
    }
   ],
   "source": [
    "# you can create your own module by placing a .py file inside a directory\n",
    "# for example, create a directory called my_module\n",
    "# in it, put an empty __init__.py file\n",
    "# and a file with the Mazda objects above\n",
    "#\n",
    "# Make sure that the directory above the my_module directory is in the PYTHON_PATH variable\n",
    "# then, you can do things like\n",
    "#\n",
    "# import my_module\n",
    "# car = my_module.Mazda()\n",
    "#\n",
    "\n",
    "\n",
    "import sys\n",
    "print sys.path"
   ]
  },
  {
   "cell_type": "code",
   "execution_count": null,
   "metadata": {
    "collapsed": false
   },
   "outputs": [],
   "source": [
    "#  Next, we will learn about arrays\n",
    "#  using the scipy module\n",
    "#  The most important part there is indexing\n",
    "#\n",
    "#  After that, we'll learn about matplotlib\n",
    "#  which is the way to create graphs in python\n",
    "\n",
    "\n",
    "avar = 5\n",
    "\n",
    "def avar(x,y):\n",
    "    return x+y"
   ]
  }
 ],
 "metadata": {
  "kernelspec": {
   "display_name": "Python 2",
   "language": "python",
   "name": "python2"
  },
  "language_info": {
   "codemirror_mode": {
    "name": "ipython",
    "version": 2
   },
   "file_extension": ".py",
   "mimetype": "text/x-python",
   "name": "python",
   "nbconvert_exporter": "python",
   "pygments_lexer": "ipython2",
   "version": "2.7.11"
  }
 },
 "nbformat": 4,
 "nbformat_minor": 0
}
